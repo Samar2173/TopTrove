{
 "cells": [
  {
   "cell_type": "code",
   "execution_count": 2,
   "metadata": {},
   "outputs": [
    {
     "name": "stdout",
     "output_type": "stream",
     "text": [
      "Hi, guys\n"
     ]
    }
   ],
   "source": [
    "print(\"Hi, guys\")"
   ]
  },
  {
   "cell_type": "code",
   "execution_count": 6,
   "metadata": {},
   "outputs": [
    {
     "name": "stdout",
     "output_type": "stream",
     "text": [
      "True\n"
     ]
    }
   ],
   "source": [
    "l = [1, 2, 3, 4, 5]\r\n",
    "x = 9\r\n",
    "\r\n",
    "print(x not in l)"
   ]
  },
  {
   "cell_type": "code",
   "execution_count": 11,
   "metadata": {},
   "outputs": [
    {
     "name": "stdout",
     "output_type": "stream",
     "text": [
      "1987 is not a leap year\n"
     ]
    }
   ],
   "source": [
    "year = 1987\r\n",
    "\r\n",
    "if (year % 4) == 0:\r\n",
    "   if (year % 100) == 0:\r\n",
    "       if (year % 400) == 0:\r\n",
    "           print(f\"{year} is a leap year\")\r\n",
    "       else:\r\n",
    "           print(f\"{year} is not a leap year\")\r\n",
    "   else:\r\n",
    "       print(f\"{year} is a leap year\")\r\n",
    "else:\r\n",
    "   print(f\"{year} is not a leap year\")"
   ]
  },
  {
   "cell_type": "code",
   "execution_count": 13,
   "metadata": {},
   "outputs": [
    {
     "name": "stdout",
     "output_type": "stream",
     "text": [
      "positive\n"
     ]
    }
   ],
   "source": [
    "a = 5\r\n",
    "\r\n",
    "if(a<0): print(\"neagtive\")\r\n",
    "# elif(a == 0): print(0)\r\n",
    "else: print(\"positive\")"
   ]
  },
  {
   "cell_type": "code",
   "execution_count": 14,
   "metadata": {},
   "outputs": [
    {
     "name": "stdout",
     "output_type": "stream",
     "text": [
      "positive\n"
     ]
    }
   ],
   "source": [
    "print(\"negative\") if (a<0) else print(\"positive\")"
   ]
  },
  {
   "cell_type": "code",
   "execution_count": null,
   "metadata": {},
   "outputs": [],
   "source": []
  }
 ],
 "metadata": {
  "interpreter": {
   "hash": "324e240ea573fd3d8056e12ea70d483238364e9b42112e18bb174b35d8d396b2"
  },
  "kernelspec": {
   "display_name": "Python 3.8.5 64-bit",
   "name": "python3"
  },
  "language_info": {
   "name": "python",
   "version": ""
  },
  "orig_nbformat": 4
 },
 "nbformat": 4,
 "nbformat_minor": 2
}