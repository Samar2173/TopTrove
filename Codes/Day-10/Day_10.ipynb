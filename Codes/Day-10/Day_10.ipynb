{
 "cells": [
  {
   "cell_type": "markdown",
   "source": [
    "# Day 10"
   ],
   "metadata": {}
  },
  {
   "cell_type": "code",
   "execution_count": 7,
   "source": [
    "r = lambda a : a + 15\r\n",
    "m = lambda a: a%10 * a // 10\r\n",
    "ans1, ans2 = r(63), m(63)\r\n",
    "print(ans1, ans2)"
   ],
   "outputs": [
    {
     "output_type": "stream",
     "name": "stdout",
     "text": [
      "78 18\n"
     ]
    }
   ],
   "metadata": {}
  },
  {
   "cell_type": "code",
   "execution_count": 11,
   "source": [
    "nums = [1, 2]\r\n",
    "print(\"Original list of integers:\")\r\n",
    "print(nums)\r\n",
    "print(\"\\nSquare every number of the said list:\")\r\n",
    "\r\n",
    "square_nums = list(map(lambda x: x ** 2, nums))\r\n",
    "print(square_nums)\r\n",
    "print(\"\\nCube every number of the said list:\")\r\n",
    "cube_nums =     (map(lambda x: x ** 3, nums))\r\n",
    "print(cube_nums)"
   ],
   "outputs": [
    {
     "output_type": "stream",
     "name": "stdout",
     "text": [
      "Original list of integers:\n",
      "[1, 2]\n",
      "\n",
      "Square every number of the said list:\n",
      "[1, 4]\n",
      "\n",
      "Cube every number of the said list:\n",
      "[1, 8]\n"
     ]
    }
   ],
   "metadata": {}
  },
  {
   "cell_type": "code",
   "execution_count": null,
   "source": [
    "nums = [1, 2, 56, 93, 562489103]\r\n",
    "print(\"Original list of integers:\")\r\n",
    "print(nums)\r\n",
    "print(\"\\nNumber, Square, Cube:\")\r\n",
    "square_nums = lambda x: x ** 2\r\n",
    "cube_nums = lambda x: x ** 3\r\n",
    "for i in nums:\r\n",
    "    print(i, square_nums(i), cube_nums(i))"
   ],
   "outputs": [],
   "metadata": {}
  },
  {
   "cell_type": "markdown",
   "source": [],
   "metadata": {}
  },
  {
   "cell_type": "code",
   "execution_count": 5,
   "source": [
    "class Reverse:\r\n",
    "    def reverse_sentence(self, s):\r\n",
    "        return ' '.join(reversed(s.split()))\r\n",
    "\r\n",
    "    def reverse_char(self, s):\r\n",
    "        return ''.join(reversed(list(s)))\r\n",
    "\r\n",
    "    def reverse_all(self, s):\r\n",
    "        str = Reverse().reverse_setence(s)\r\n",
    "        ans = Reverse().reverse_char(str)\r\n",
    "        return ans\r\n",
    "\r\n",
    "str = 'night good'\r\n",
    "solution = Reverse()\r\n",
    "print(solution.reverse_sentence(str))\r\n",
    "print(solution.reverse_all(str))\r\n",
    "print(solution.reverse_char(str))"
   ],
   "outputs": [
    {
     "output_type": "stream",
     "name": "stdout",
     "text": [
      "good night\n"
     ]
    },
    {
     "output_type": "error",
     "ename": "AttributeError",
     "evalue": "'Reverse' object has no attribute 'reverse_setence'",
     "traceback": [
      "\u001b[1;31m---------------------------------------------------------------------------\u001b[0m",
      "\u001b[1;31mAttributeError\u001b[0m                            Traceback (most recent call last)",
      "\u001b[1;32m<ipython-input-5-07e299ae07e1>\u001b[0m in \u001b[0;36m<module>\u001b[1;34m\u001b[0m\n\u001b[0;32m     14\u001b[0m \u001b[0msolution\u001b[0m \u001b[1;33m=\u001b[0m \u001b[0mReverse\u001b[0m\u001b[1;33m(\u001b[0m\u001b[1;33m)\u001b[0m\u001b[1;33m\u001b[0m\u001b[1;33m\u001b[0m\u001b[0m\n\u001b[0;32m     15\u001b[0m \u001b[0mprint\u001b[0m\u001b[1;33m(\u001b[0m\u001b[0msolution\u001b[0m\u001b[1;33m.\u001b[0m\u001b[0mreverse_sentence\u001b[0m\u001b[1;33m(\u001b[0m\u001b[0mstr\u001b[0m\u001b[1;33m)\u001b[0m\u001b[1;33m)\u001b[0m\u001b[1;33m\u001b[0m\u001b[1;33m\u001b[0m\u001b[0m\n\u001b[1;32m---> 16\u001b[1;33m \u001b[0mprint\u001b[0m\u001b[1;33m(\u001b[0m\u001b[0msolution\u001b[0m\u001b[1;33m.\u001b[0m\u001b[0mreverse_all\u001b[0m\u001b[1;33m(\u001b[0m\u001b[0mstr\u001b[0m\u001b[1;33m)\u001b[0m\u001b[1;33m)\u001b[0m\u001b[1;33m\u001b[0m\u001b[1;33m\u001b[0m\u001b[0m\n\u001b[0m\u001b[0;32m     17\u001b[0m \u001b[0mprint\u001b[0m\u001b[1;33m(\u001b[0m\u001b[0msolution\u001b[0m\u001b[1;33m.\u001b[0m\u001b[0mreverse_char\u001b[0m\u001b[1;33m(\u001b[0m\u001b[0mstr\u001b[0m\u001b[1;33m)\u001b[0m\u001b[1;33m)\u001b[0m\u001b[1;33m\u001b[0m\u001b[1;33m\u001b[0m\u001b[0m\n",
      "\u001b[1;32m<ipython-input-5-07e299ae07e1>\u001b[0m in \u001b[0;36mreverse_all\u001b[1;34m(self, s)\u001b[0m\n\u001b[0;32m      7\u001b[0m \u001b[1;33m\u001b[0m\u001b[0m\n\u001b[0;32m      8\u001b[0m         \u001b[1;32mdef\u001b[0m \u001b[0mreverse_all\u001b[0m\u001b[1;33m(\u001b[0m\u001b[0mself\u001b[0m\u001b[1;33m,\u001b[0m \u001b[0ms\u001b[0m\u001b[1;33m)\u001b[0m\u001b[1;33m:\u001b[0m\u001b[1;33m\u001b[0m\u001b[1;33m\u001b[0m\u001b[0m\n\u001b[1;32m----> 9\u001b[1;33m             \u001b[0mstr\u001b[0m \u001b[1;33m=\u001b[0m \u001b[0mReverse\u001b[0m\u001b[1;33m(\u001b[0m\u001b[1;33m)\u001b[0m\u001b[1;33m.\u001b[0m\u001b[0mreverse_setence\u001b[0m\u001b[1;33m(\u001b[0m\u001b[0ms\u001b[0m\u001b[1;33m)\u001b[0m\u001b[1;33m\u001b[0m\u001b[1;33m\u001b[0m\u001b[0m\n\u001b[0m\u001b[0;32m     10\u001b[0m             \u001b[0mans\u001b[0m \u001b[1;33m=\u001b[0m \u001b[0mReverse\u001b[0m\u001b[1;33m(\u001b[0m\u001b[1;33m)\u001b[0m\u001b[1;33m.\u001b[0m\u001b[0mreverse_char\u001b[0m\u001b[1;33m(\u001b[0m\u001b[0mstr\u001b[0m\u001b[1;33m)\u001b[0m\u001b[1;33m\u001b[0m\u001b[1;33m\u001b[0m\u001b[0m\n\u001b[0;32m     11\u001b[0m             \u001b[1;32mreturn\u001b[0m \u001b[0mans\u001b[0m\u001b[1;33m\u001b[0m\u001b[1;33m\u001b[0m\u001b[0m\n",
      "\u001b[1;31mAttributeError\u001b[0m: 'Reverse' object has no attribute 'reverse_setence'"
     ]
    }
   ],
   "metadata": {}
  },
  {
   "cell_type": "code",
   "execution_count": null,
   "source": [],
   "outputs": [],
   "metadata": {}
  },
  {
   "cell_type": "code",
   "execution_count": null,
   "source": [
    "class Profile:\r\n",
    "    school = 'School Name'\r\n",
    "    def __init__(self, roll, fname, lname):\r\n",
    "            self.roll = roll\r\n",
    "            self. fname = fname \r\n",
    "            self. lname = lname\r\n",
    "\r\n",
    "    def freeTime(self):\r\n",
    "        print(self.roll, 'is enjoying with everybody')\r\n",
    "\r\n",
    "\r\n",
    "class Monitor(Profile):\r\n",
    "        def __init__(self, roll, fname, lname):\r\n",
    "            super().__init__()\r\n",
    "\r\n",
    "        def freeTime(self):\r\n",
    "            print(self.roll, 'is monitoring everybody')\r\n",
    "\t\r\n",
    "student1 = Profile()\r\n",
    "student2 = Monitor()\r\n",
    "\r\n",
    "student1.freeTime()\r\n",
    "student1.roll = 32"
   ],
   "outputs": [],
   "metadata": {}
  }
 ],
 "metadata": {
  "orig_nbformat": 4,
  "language_info": {
   "name": "python"
  }
 },
 "nbformat": 4,
 "nbformat_minor": 2
}