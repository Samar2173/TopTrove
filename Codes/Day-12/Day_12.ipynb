{
 "cells": [
  {
   "cell_type": "markdown",
   "source": [
    "# Day 12\r\n",
    "# Try Except"
   ],
   "metadata": {}
  },
  {
   "cell_type": "code",
   "execution_count": 1,
   "source": [
    "print(50/0)"
   ],
   "outputs": [
    {
     "output_type": "error",
     "ename": "ZeroDivisionError",
     "evalue": "division by zero",
     "traceback": [
      "\u001b[1;31m---------------------------------------------------------------------------\u001b[0m",
      "\u001b[1;31mZeroDivisionError\u001b[0m                         Traceback (most recent call last)",
      "\u001b[1;32m<ipython-input-1-88ea1474e743>\u001b[0m in \u001b[0;36m<module>\u001b[1;34m\u001b[0m\n\u001b[1;32m----> 1\u001b[1;33m \u001b[0mprint\u001b[0m\u001b[1;33m(\u001b[0m\u001b[1;36m50\u001b[0m\u001b[1;33m/\u001b[0m\u001b[1;36m0\u001b[0m\u001b[1;33m)\u001b[0m\u001b[1;33m\u001b[0m\u001b[1;33m\u001b[0m\u001b[0m\n\u001b[0m",
      "\u001b[1;31mZeroDivisionError\u001b[0m: division by zero"
     ]
    }
   ],
   "metadata": {}
  },
  {
   "cell_type": "code",
   "execution_count": 14,
   "source": [
    "try:\r\n",
    "    print(50/0)\r\n",
    "except ZeroDivisionError:\r\n",
    "    print(\"An exception occured\")\r\n"
   ],
   "outputs": [
    {
     "output_type": "stream",
     "name": "stdout",
     "text": [
      "An exception occured\n"
     ]
    }
   ],
   "metadata": {}
  },
  {
   "cell_type": "code",
   "execution_count": 3,
   "source": [
    "for i in range(5):\r\n",
    "    print(50/i)\r\n"
   ],
   "outputs": [
    {
     "output_type": "error",
     "ename": "ZeroDivisionError",
     "evalue": "division by zero",
     "traceback": [
      "\u001b[1;31m---------------------------------------------------------------------------\u001b[0m",
      "\u001b[1;31mZeroDivisionError\u001b[0m                         Traceback (most recent call last)",
      "\u001b[1;32m<ipython-input-3-5f4a4ca5b485>\u001b[0m in \u001b[0;36m<module>\u001b[1;34m\u001b[0m\n\u001b[0;32m      1\u001b[0m \u001b[1;32mfor\u001b[0m \u001b[0mi\u001b[0m \u001b[1;32min\u001b[0m \u001b[0mrange\u001b[0m\u001b[1;33m(\u001b[0m\u001b[1;36m5\u001b[0m\u001b[1;33m)\u001b[0m\u001b[1;33m:\u001b[0m\u001b[1;33m\u001b[0m\u001b[1;33m\u001b[0m\u001b[0m\n\u001b[1;32m----> 2\u001b[1;33m     \u001b[0mprint\u001b[0m\u001b[1;33m(\u001b[0m\u001b[1;36m50\u001b[0m\u001b[1;33m/\u001b[0m\u001b[0mi\u001b[0m\u001b[1;33m)\u001b[0m\u001b[1;33m\u001b[0m\u001b[1;33m\u001b[0m\u001b[0m\n\u001b[0m",
      "\u001b[1;31mZeroDivisionError\u001b[0m: division by zero"
     ]
    }
   ],
   "metadata": {}
  },
  {
   "cell_type": "code",
   "execution_count": 4,
   "source": [
    "trialList = [\"pop\", 50, 23, \"corn\", 0, 56.32, False]\r\n",
    "try:\r\n",
    "    for i in trialList:\r\n",
    "        print(50/i)\r\n",
    "except:\r\n",
    "    print(\"Error is solved\")\r\n"
   ],
   "outputs": [
    {
     "output_type": "stream",
     "name": "stdout",
     "text": [
      "Error is solved\n"
     ]
    }
   ],
   "metadata": {}
  },
  {
   "cell_type": "code",
   "execution_count": null,
   "source": [
    "trialList = [\"pop\", 50, 23, \"corn\", 0, 56.32, False]\r\n",
    "\r\n",
    "for i in trialList:\r\n",
    "    try:\r\n",
    "        print(50/i)\r\n",
    "    except (ZeroDivisionError, TypeError):\r\n",
    "        print(\"Error Occured\")\r\n"
   ],
   "outputs": [],
   "metadata": {}
  },
  {
   "cell_type": "code",
   "execution_count": null,
   "source": [
    "for i in range(50):\r\n",
    "    ans = i + i**2\r\n",
    "    try:\r\n",
    "        res = (ans * i) / i ** 2\r\n",
    "    except:\r\n",
    "        print(\"Error Occured\")\r\n",
    "    else:\r\n",
    "        print(i, res)"
   ],
   "outputs": [],
   "metadata": {}
  },
  {
   "cell_type": "code",
   "execution_count": 15,
   "source": [
    "import time\r\n",
    "\r\n",
    "start = time.perf_counter()\r\n",
    "print(start)\r\n",
    "\r\n",
    "def func():\r\n",
    "    for i in range(100000):\r\n",
    "        if time.perf_counter() - start > 5:\r\n",
    "            raise TimeoutError()\r\n",
    "        i ** 50000\r\n",
    "\r\n",
    "try:\r\n",
    "    func()\r\n",
    "\r\n",
    "except TimeoutError:\r\n",
    "    print(\"Took more than 5s\")"
   ],
   "outputs": [
    {
     "output_type": "stream",
     "name": "stdout",
     "text": [
      "1248.4403969\n",
      "Took more than 5 s\n"
     ]
    }
   ],
   "metadata": {}
  },
  {
   "cell_type": "code",
   "execution_count": 13,
   "source": [
    "import time\r\n",
    "\r\n",
    "start = time.perf_counter()\r\n",
    "print(start)\r\n",
    "\r\n",
    "def fib(n):\r\n",
    "    if n<2:\r\n",
    "        return n\r\n",
    "    return fib(n-1) + fib(n-2)\r\n",
    "\r\n",
    "print(fib(35))\r\n",
    "\r\n",
    "print(time.perf_counter() - start)"
   ],
   "outputs": [
    {
     "output_type": "stream",
     "name": "stdout",
     "text": [
      "528.3373318\n",
      "9227465\n",
      "3.8322016999999278\n"
     ]
    }
   ],
   "metadata": {}
  },
  {
   "cell_type": "code",
   "execution_count": null,
   "source": [
    "import time\r\n",
    "\r\n",
    "def fibonacci(terms):\r\n",
    "    global s\r\n",
    "    s = time.perf_counter()\r\n",
    "    first=0\r\n",
    "    second=1\r\n",
    "\r\n",
    "    for i in range(2,terms):\r\n",
    "        third = first + second\r\n",
    "        first=second\r\n",
    "        second=third\r\n",
    "\r\n",
    "        if (time.perf_counter() - s) > 5:\r\n",
    "            print(\"Inside Condition\")\r\n",
    "            return third % 10\r\n",
    "\r\n",
    "    return third % 10\r\n",
    "\r\n",
    "\r\n",
    "terms=int(input(\"enter no of terms\\n\"))\r\n",
    "print(fibonacci(terms))\r\n",
    "print((time.perf_counter() - s))"
   ],
   "outputs": [
    {
     "output_type": "error",
     "ename": "Error",
     "evalue": "Session cannot generate requests",
     "traceback": [
      "Error: Session cannot generate requests",
      "at w.executeCodeCell (c:\\Users\\REZ3LIET\\.vscode\\extensions\\ms-toolsai.jupyter-2021.8.1046824664\\out\\client\\extension.js:90:320068)",
      "at w.execute (c:\\Users\\REZ3LIET\\.vscode\\extensions\\ms-toolsai.jupyter-2021.8.1046824664\\out\\client\\extension.js:90:319389)",
      "at w.start (c:\\Users\\REZ3LIET\\.vscode\\extensions\\ms-toolsai.jupyter-2021.8.1046824664\\out\\client\\extension.js:90:315205)",
      "at runMicrotasks (<anonymous>)",
      "at processTicksAndRejections (internal/process/task_queues.js:93:5)",
      "at async t.CellExecutionQueue.executeQueuedCells (c:\\Users\\REZ3LIET\\.vscode\\extensions\\ms-toolsai.jupyter-2021.8.1046824664\\out\\client\\extension.js:90:329732)",
      "at async t.CellExecutionQueue.start (c:\\Users\\REZ3LIET\\.vscode\\extensions\\ms-toolsai.jupyter-2021.8.1046824664\\out\\client\\extension.js:90:329272)"
     ]
    }
   ],
   "metadata": {}
  },
  {
   "cell_type": "code",
   "execution_count": null,
   "source": [],
   "outputs": [],
   "metadata": {}
  }
 ],
 "metadata": {
  "orig_nbformat": 4,
  "language_info": {
   "name": "python",
   "version": "3.8.5",
   "mimetype": "text/x-python",
   "codemirror_mode": {
    "name": "ipython",
    "version": 3
   },
   "pygments_lexer": "ipython3",
   "nbconvert_exporter": "python",
   "file_extension": ".py"
  },
  "kernelspec": {
   "name": "python3",
   "display_name": "Python 3.8.5 64-bit"
  },
  "interpreter": {
   "hash": "324e240ea573fd3d8056e12ea70d483238364e9b42112e18bb174b35d8d396b2"
  }
 },
 "nbformat": 4,
 "nbformat_minor": 2
}