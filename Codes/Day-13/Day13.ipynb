{
 "cells": [
  {
   "cell_type": "markdown",
   "source": [
    "# Day 13\r\n",
    "# File Handling"
   ],
   "metadata": {}
  },
  {
   "cell_type": "code",
   "execution_count": 7,
   "source": [
    "file = open(r'text.txt', 'r')\r\n",
    "print(file.tell())\r\n",
    "print(file.read())"
   ],
   "outputs": [
    {
     "output_type": "stream",
     "name": "stdout",
     "text": [
      "0\n",
      "\n"
     ]
    }
   ],
   "metadata": {}
  },
  {
   "cell_type": "code",
   "execution_count": 5,
   "source": [
    "for each in file: print(each)"
   ],
   "outputs": [],
   "metadata": {}
  },
  {
   "cell_type": "code",
   "execution_count": 28,
   "source": [
    "file.seek(0)\r\n",
    "text = file.read()\r\n",
    "for_words = text.split()\r\n",
    "print(len(for_words))"
   ],
   "outputs": [
    {
     "output_type": "stream",
     "name": "stdout",
     "text": [
      "141\n"
     ]
    }
   ],
   "metadata": {}
  },
  {
   "cell_type": "code",
   "execution_count": 5,
   "source": [
    "print(file.read(5))"
   ],
   "outputs": [
    {
     "output_type": "stream",
     "name": "stdout",
     "text": [
      "Pytho\n"
     ]
    }
   ],
   "metadata": {}
  },
  {
   "cell_type": "code",
   "execution_count": 17,
   "source": [
    "file = open(r'text.txt', 'r')\r\n",
    "for i in range(30):\r\n",
    "    if i <= 1:\r\n",
    "        print(file.readline())\r\n",
    "    else:\r\n",
    "        break\r\n"
   ],
   "outputs": [
    {
     "output_type": "stream",
     "name": "stdout",
     "text": [
      "Python too supports file handling and allows users to handle files i.e., to read and write files,\n",
      "\n",
      "along with many other file handling options, to operate on files. The concept of file handling has\n",
      "\n"
     ]
    }
   ],
   "metadata": {}
  },
  {
   "cell_type": "code",
   "execution_count": 22,
   "source": [
    "file.seek(0)\r\n",
    "print(file.readlines())"
   ],
   "outputs": [
    {
     "output_type": "stream",
     "name": "stdout",
     "text": [
      "['Python too supports file handling and allows users to handle files i.e., to read and write files,\\n', 'along with many other file handling options, to operate on files. The concept of file handling has\\n', 'stretched over various other languages, but the implementation is either complicated or lengthy,\\n', 'but alike other concepts of Python, this concept here is also easy and short. Python treats file\\n', 'differently as text or binary and this is important. Each line of code includes a sequence of characters\\n', 'and they form text file. Each line of a file is terminated with a special character, called the EOL or\\n', 'End of Line characters like comma {,} or newline character. It ends the current line and tells the\\n', 'interpreter a new one has begun.\\n', '\\n', 'Letâ€™s start with Reading and Writing files.This will add this lineThis will add this line']\n"
     ]
    }
   ],
   "metadata": {}
  },
  {
   "cell_type": "code",
   "execution_count": 38,
   "source": [
    "file.seek(0)"
   ],
   "outputs": [
    {
     "output_type": "execute_result",
     "data": {
      "text/plain": [
       "0"
      ]
     },
     "metadata": {},
     "execution_count": 38
    }
   ],
   "metadata": {}
  },
  {
   "cell_type": "code",
   "execution_count": 15,
   "source": [
    "file = open(r'text.txt', 'w+')\r\n",
    "file.seek(0)\r\n",
    "print(file.read())"
   ],
   "outputs": [
    {
     "output_type": "stream",
     "name": "stdout",
     "text": [
      "\n"
     ]
    }
   ],
   "metadata": {}
  },
  {
   "cell_type": "code",
   "execution_count": 18,
   "source": [
    "file.seek(66)\r\n",
    "file.write(\"\\nThis will add this line at Here\\n\")\r\n",
    "print(file.read())\r\n",
    "# file.close()"
   ],
   "outputs": [
    {
     "output_type": "stream",
     "name": "stdout",
     "text": [
      "\n",
      "This will add this line at 2'\n",
      "\n",
      "This will add this line at 3'\n",
      "\n",
      "This will add this line at 4'\n",
      "\n",
      "This will add this line at 5'\n",
      "\n",
      "This will add this line at 6'\n",
      "\n",
      "This will add this line at 7'\n",
      "\n",
      "This will add this line at 8'\n",
      "\n",
      "This will add this line at 9'\n",
      "\n",
      "This will add this line at 10'\n",
      "\n",
      "This will add this line at 11'\n",
      "\n",
      "This will add this line at 12'\n",
      "\n",
      "This will add this line at 13'\n",
      "\n",
      "This will add this line at 14'\n",
      "\n",
      "This will add this line at 15'\n",
      "\n",
      "This will add this line at 16'\n",
      "\n",
      "This will add this line at 17'\n",
      "\n",
      "This will add this line at 18'\n",
      "\n",
      "This will add this line at 19'\n",
      "\n",
      "This will add this line at 20'\n",
      "\n",
      "This will add this line at 21'\n",
      "\n",
      "This will add this line at 22'\n",
      "\n",
      "This will add this line at 23'\n",
      "\n",
      "This will add this line at 24'\n",
      "\n",
      "This will add this line at 25'\n",
      "\n",
      "This will add this line at 26'\n",
      "\n",
      "This will add this line at 27'\n",
      "\n",
      "This will add this line at 28'\n",
      "\n",
      "This will add this line at 29'\n",
      "\n",
      "This will add this line at 30'\n",
      "\n",
      "This will add this line at 31'\n",
      "\n",
      "This will add this line at 32'\n",
      "\n",
      "This will add this line at 33'\n",
      "\n",
      "This will add this line at 34'\n",
      "\n",
      "This will add this line at 35'\n",
      "\n",
      "This will add this line at 36'\n",
      "\n",
      "This will add this line at 37'\n",
      "\n",
      "This will add this line at 38'\n",
      "\n",
      "This will add this line at 39'\n",
      "\n",
      "This will add this line at 40'\n",
      "\n",
      "This will add this line at 41'\n",
      "\n",
      "This will add this line at 42'\n",
      "\n",
      "This will add this line at 43'\n",
      "\n",
      "This will add this line at 44'\n",
      "\n",
      "This will add this line at 45'\n",
      "\n",
      "This will add this line at 46'\n",
      "\n",
      "This will add this line at 47'\n",
      "\n",
      "This will add this line at 48'\n",
      "\n",
      "This will add this line at 49'\n",
      "\n",
      "This will add this line at 50'\n",
      "\n",
      "This will add this line at 51'\n",
      "\n",
      "This will add this line at 52'\n",
      "\n",
      "This will add this line at 53'\n",
      "\n",
      "This will add this line at 54'\n",
      "\n",
      "This will add this line at 55'\n",
      "\n",
      "This will add this line at 56'\n",
      "\n",
      "This will add this line at 57'\n",
      "\n",
      "This will add this line at 58'\n",
      "\n",
      "This will add this line at 59'\n",
      "\n",
      "This will add this line at 60'\n",
      "\n",
      "This will add this line at 61'\n",
      "\n",
      "This will add this line at 62'\n",
      "\n",
      "This will add this line at 63'\n",
      "\n",
      "This will add this line at 64'\n",
      "\n",
      "This will add this line at 65'\n",
      "\n",
      "This will add this line at 66'\n",
      "\n",
      "This will add this line at 67'\n",
      "\n",
      "This will add this line at 68'\n",
      "\n",
      "This will add this line at 69'\n",
      "\n"
     ]
    }
   ],
   "metadata": {}
  },
  {
   "cell_type": "code",
   "execution_count": null,
   "source": [
    "with open(\"file.txt\", \"mode - w\") as file:  \r\n",
    "    data = file.read() "
   ],
   "outputs": [],
   "metadata": {}
  }
 ],
 "metadata": {
  "orig_nbformat": 4,
  "language_info": {
   "name": "python",
   "version": "3.8.5",
   "mimetype": "text/x-python",
   "codemirror_mode": {
    "name": "ipython",
    "version": 3
   },
   "pygments_lexer": "ipython3",
   "nbconvert_exporter": "python",
   "file_extension": ".py"
  },
  "kernelspec": {
   "name": "python3",
   "display_name": "Python 3.8.5 64-bit"
  },
  "interpreter": {
   "hash": "324e240ea573fd3d8056e12ea70d483238364e9b42112e18bb174b35d8d396b2"
  }
 },
 "nbformat": 4,
 "nbformat_minor": 2
}