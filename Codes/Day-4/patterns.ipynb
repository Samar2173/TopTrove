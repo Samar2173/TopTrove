{
 "cells": [
  {
   "cell_type": "markdown",
   "metadata": {},
   "source": [
    "# Day- 4\r\n",
    "# Patterns"
   ]
  },
  {
   "cell_type": "markdown",
   "metadata": {},
   "source": [
    "# '*' Patterns"
   ]
  },
  {
   "cell_type": "code",
   "execution_count": 2,
   "metadata": {},
   "outputs": [
    {
     "name": "stdout",
     "output_type": "stream",
     "text": [
      "* * * * * \n",
      "* * * * * \n",
      "* * * * * \n",
      "* * * * * \n",
      "* * * * * \n"
     ]
    }
   ],
   "source": [
    "# Square Pattern\r\n",
    "n = 5\r\n",
    "for i in range(n):\r\n",
    "    print('* ' * 5)\r\n"
   ]
  },
  {
   "cell_type": "code",
   "execution_count": 4,
   "metadata": {},
   "outputs": [
    {
     "name": "stdout",
     "output_type": "stream",
     "text": [
      "* \n",
      "* * \n",
      "* * * \n",
      "* * * * \n",
      "* * * * * \n"
     ]
    }
   ],
   "source": [
    "# Triangle 1\r\n",
    "n = 5\r\n",
    "for i in range(1, n + 1):\r\n",
    "    print('* ' * i)\r\n"
   ]
  },
  {
   "cell_type": "code",
   "execution_count": 4,
   "metadata": {},
   "outputs": [
    {
     "name": "stdout",
     "output_type": "stream",
     "text": [
      "        * \n",
      "      * * \n",
      "    * * * \n",
      "  * * * * \n",
      "* * * * * \n"
     ]
    }
   ],
   "source": [
    "# Triangle 2\r\n",
    "n = 5\r\n",
    "for i in range(1, n + 1):\r\n",
    "    print('  ' * (n - i), end = '')\r\n",
    "    print('* ' * i)"
   ]
  },
  {
   "cell_type": "code",
   "execution_count": 24,
   "metadata": {},
   "outputs": [
    {
     "name": "stdout",
     "output_type": "stream",
     "text": [
      "    * \n",
      "   * * \n",
      "  * * * \n",
      " * * * * \n",
      "* * * * * \n"
     ]
    }
   ],
   "source": [
    "# Triangle 3\r\n",
    "n = 5\r\n",
    "for i in range(1, n + 1):\r\n",
    "    for j in range((n-i)):\r\n",
    "        print(end = ' ')\r\n",
    "    print('* ' * i)"
   ]
  },
  {
   "cell_type": "code",
   "execution_count": 37,
   "metadata": {},
   "outputs": [
    {
     "name": "stdout",
     "output_type": "stream",
     "text": [
      "        * \n",
      "      * * * \n",
      "    * * * * * \n",
      "  * * * * * * * \n",
      "* * * * * * * * * \n"
     ]
    }
   ],
   "source": [
    "# Triangle 4\r\n",
    "n = 5\r\n",
    "for i in range(1, n + 1):\r\n",
    "    for j in range(2*(n-i)):\r\n",
    "        print(end = ' ')\r\n",
    "    print('* ' * (2 * i - 1))"
   ]
  },
  {
   "cell_type": "code",
   "execution_count": 40,
   "metadata": {},
   "outputs": [
    {
     "name": "stdout",
     "output_type": "stream",
     "text": [
      "* * * * * * * * * \n",
      "  * * * * * * * \n",
      "    * * * * * \n",
      "      * * * \n",
      "        * \n"
     ]
    }
   ],
   "source": [
    "# Triangle 5\r\n",
    "n = 5\r\n",
    "for i in range(n, 0, -1):\r\n",
    "    for j in range(2*(n-i)):\r\n",
    "        print(end = ' ')\r\n",
    "    print('* ' * (2 * i - 1))"
   ]
  },
  {
   "cell_type": "code",
   "execution_count": 7,
   "metadata": {},
   "outputs": [
    {
     "name": "stdout",
     "output_type": "stream",
     "text": [
      "* * * * * \n",
      "* * * * \n",
      "* * * \n",
      "* * \n",
      "* \n",
      "\n"
     ]
    }
   ],
   "source": [
    "# Triangle Bomus\r\n",
    "n = 5\r\n",
    "for i in range(n + 1):\r\n",
    "    print('* ' * (n - i))"
   ]
  },
  {
   "cell_type": "code",
   "execution_count": 41,
   "metadata": {},
   "outputs": [
    {
     "name": "stdout",
     "output_type": "stream",
     "text": [
      "5\n",
      "4\n",
      "3\n",
      "2\n",
      "1\n"
     ]
    }
   ],
   "source": [
    "for i in range(5, 0, -1):print(i)"
   ]
  },
  {
   "cell_type": "markdown",
   "metadata": {},
   "source": [
    "# Number Patterns"
   ]
  },
  {
   "cell_type": "code",
   "execution_count": 57,
   "metadata": {},
   "outputs": [
    {
     "name": "stdout",
     "output_type": "stream",
     "text": [
      "1 \n",
      "2 3 \n",
      "4 5 6 \n",
      "7 8 9 10 \n",
      "11 12 13 14 15 \n"
     ]
    }
   ],
   "source": [
    "# Num Pattern 1\r\n",
    "n = 5\r\n",
    "k = 1\r\n",
    "for i in range(0, n):\r\n",
    "    for j in range(i + 1):\r\n",
    "        print(str(k), end = ' ')\r\n",
    "        k += 1\r\n",
    "    print()\r\n",
    "    "
   ]
  },
  {
   "cell_type": "code",
   "execution_count": 66,
   "metadata": {},
   "outputs": [
    {
     "name": "stdout",
     "output_type": "stream",
     "text": [
      "1 \n",
      "1 2 \n",
      "1 2 3 \n",
      "1 2 3 4 \n",
      "1 2 3 4 5 \n"
     ]
    }
   ],
   "source": [
    "# Num Pattern 2\r\n",
    "n = 5\r\n",
    "for i in range(0, n):\r\n",
    "    k = 1\r\n",
    "    for j in range(i + 1):\r\n",
    "        print(str(k), end = ' ')\r\n",
    "        k += 1\r\n",
    "    print()"
   ]
  },
  {
   "cell_type": "code",
   "execution_count": 67,
   "metadata": {},
   "outputs": [
    {
     "name": "stdout",
     "output_type": "stream",
     "text": [
      "        1 \n",
      "      2 2 \n",
      "    3 3 3 \n",
      "  4 4 4 4 \n",
      "5 5 5 5 5 \n"
     ]
    }
   ],
   "source": [
    "# Num Pattern 3\r\n",
    "n = 5\r\n",
    "k = 1\r\n",
    "for i in range(1, n + 1):\r\n",
    "    print('  ' * (n - i), end = '')\r\n",
    "    print((str(k) + ' ') * i)\r\n",
    "    k += 1"
   ]
  },
  {
   "cell_type": "code",
   "execution_count": 71,
   "metadata": {},
   "outputs": [
    {
     "name": "stdout",
     "output_type": "stream",
     "text": [
      "1 \n",
      "2 1 \n",
      "3 2 1 \n",
      "4 3 2 1 \n",
      "5 4 3 2 1 \n"
     ]
    }
   ],
   "source": [
    "# Num Pattern 4\r\n",
    "n = 5\r\n",
    "k = 1\r\n",
    "for i in range(0, n):\r\n",
    "    for j in range(i + 1):\r\n",
    "        print(str(k - j), end = ' ')\r\n",
    "    k += 1\r\n",
    "    print()"
   ]
  },
  {
   "cell_type": "code",
   "execution_count": 86,
   "metadata": {},
   "outputs": [
    {
     "name": "stdout",
     "output_type": "stream",
     "text": [
      "    1 \n",
      "   2 4 \n",
      "  3 9 9 \n",
      " 4 16 16 16 \n",
      "5 25 25 25 25 \n"
     ]
    }
   ],
   "source": [
    "# Num Pattern 5\r\n",
    "n = 5\r\n",
    "\r\n",
    "for i in range(1, n + 1):\r\n",
    "    for j in range((n-i)):\r\n",
    "        print(end = ' ')\r\n",
    "    print(str(i), end = ' ')\r\n",
    "    print((str(i ** 2) + ' ') * (i - 1))"
   ]
  },
  {
   "cell_type": "markdown",
   "metadata": {},
   "source": [
    "# Character Patterns"
   ]
  },
  {
   "cell_type": "code",
   "execution_count": 87,
   "metadata": {},
   "outputs": [
    {
     "name": "stdout",
     "output_type": "stream",
     "text": [
      "A \n",
      "A B \n",
      "A B C \n",
      "A B C D \n",
      "A B C D E \n"
     ]
    }
   ],
   "source": [
    "# Char Pattern 1\r\n",
    "n = 5\r\n",
    "for i in range(0, n):\r\n",
    "    val = 65\r\n",
    "    for j in range(i + 1):\r\n",
    "        print(chr(val), end = ' ')\r\n",
    "        val += 1\r\n",
    "    print()\r\n"
   ]
  },
  {
   "cell_type": "code",
   "execution_count": 91,
   "metadata": {},
   "outputs": [
    {
     "name": "stdout",
     "output_type": "stream",
     "text": [
      "A \n",
      "B B \n",
      "C C C \n",
      "D D D D \n",
      "E E E E E \n"
     ]
    }
   ],
   "source": [
    "# Char Pattern 2\r\n",
    "n = 5\r\n",
    "val = 65\r\n",
    "for i in range(1, n + 1):\r\n",
    "    print((chr(val) + ' ') * i)\r\n",
    "    val += 1"
   ]
  },
  {
   "cell_type": "code",
   "execution_count": 95,
   "metadata": {},
   "outputs": [
    {
     "name": "stdout",
     "output_type": "stream",
     "text": [
      "     A \n",
      "    B A \n",
      "   C B A \n",
      "  D C B A \n",
      " E D C B A \n"
     ]
    }
   ],
   "source": [
    "# Char Pattern 3\r\n",
    "n = 5\r\n",
    "val = 65\r\n",
    "for i in range(0, n):\r\n",
    "    print(' ' * (n - i), end = '')\r\n",
    "    for j in range(i + 1):\r\n",
    "        print(chr(val - j), end = ' ')\r\n",
    "    val += 1\r\n",
    "    print()"
   ]
  },
  {
   "cell_type": "code",
   "execution_count": null,
   "metadata": {},
   "outputs": [],
   "source": []
  },
  {
   "cell_type": "code",
   "execution_count": 10,
   "metadata": {},
   "outputs": [
    {
     "name": "stdout",
     "output_type": "stream",
     "text": [
      "1 \n",
      "2 4 \n",
      "3 9 9 \n",
      "4 16 16 16 \n",
      "5 25 25 25 25 \n"
     ]
    }
   ],
   "source": [
    "rows = 6\r\n",
    "for i in range(1, rows):\r\n",
    "    print(i, end=' ')\r\n",
    "    for j in range(i-1):\r\n",
    "        print(i**2, end=' ')\r\n",
    "    print('')"
   ]
  },
  {
   "cell_type": "code",
   "execution_count": null,
   "metadata": {},
   "outputs": [],
   "source": []
  }
 ],
 "metadata": {
  "interpreter": {
   "hash": "324e240ea573fd3d8056e12ea70d483238364e9b42112e18bb174b35d8d396b2"
  },
  "kernelspec": {
   "display_name": "Python 3.8.5 64-bit",
   "name": "python3"
  },
  "language_info": {
   "name": "python",
   "version": ""
  },
  "orig_nbformat": 4
 },
 "nbformat": 4,
 "nbformat_minor": 2
}