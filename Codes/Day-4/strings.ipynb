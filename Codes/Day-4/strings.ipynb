{
 "cells": [
  {
   "cell_type": "markdown",
   "source": [
    "# Day- 4\r\n",
    "# Strings"
   ],
   "metadata": {}
  },
  {
   "cell_type": "markdown",
   "source": [
    "## Strings in python are surrounded by either single quotation marks, or double quotation marks.\r\n",
    "## “Hello” or ‘Hello’\r\n"
   ],
   "metadata": {}
  },
  {
   "cell_type": "code",
   "execution_count": 1,
   "source": [
    "a = \"Hello\"\r\n",
    "b = 'Holla'\r\n",
    "\r\n",
    "print(a, b)"
   ],
   "outputs": [
    {
     "output_type": "stream",
     "name": "stdout",
     "text": [
      "Hello Holla\n"
     ]
    }
   ],
   "metadata": {}
  },
  {
   "cell_type": "markdown",
   "source": [
    "## You can assign a multiline string to a variable by using three quotes"
   ],
   "metadata": {}
  },
  {
   "cell_type": "code",
   "execution_count": 5,
   "source": [
    "a = \"\"\"A = This is a \r\n",
    "Multiline \r\n",
    "String\"\"\"\r\n",
    "\r\n",
    "b = '''\\nB = This is a \r\n",
    "Multiline \r\n",
    "String but with\r\n",
    "Single Quotes'''\r\n",
    "\r\n",
    "print(a, b)"
   ],
   "outputs": [
    {
     "output_type": "stream",
     "name": "stdout",
     "text": [
      "A = This is a \n",
      "Multiline \n",
      "String \n",
      "B = This is a \n",
      "Multiline \n",
      "String but with\n",
      "Single Quotes\n"
     ]
    }
   ],
   "metadata": {}
  },
  {
   "cell_type": "markdown",
   "source": [
    "## More about strings"
   ],
   "metadata": {}
  },
  {
   "cell_type": "code",
   "execution_count": 1,
   "source": [
    "a = \"Square brackets can be used to access elements of the string\"\r\n",
    "n = 5\r\n",
    "\r\n",
    "print(f'{n}th element of a: {a[n]}')\r\n",
    "print(f'Length of string a: {len(a)}')\r\n",
    "\r\n",
    "check = 'b' in a\r\n",
    "print(f'b in a: {check}')\r\n",
    "\r\n",
    "check = 'ment' in a\r\n",
    "print(f'ment in a: {check}')\r\n",
    "\r\n",
    "check = 'zodiac' in a\r\n",
    "print(f'zodiac in a: {check}')\r\n",
    "\r\n",
    "check = 'zodiac' not in a\r\n",
    "print(f'zodiac not in a: {check}')\r\n"
   ],
   "outputs": [
    {
     "output_type": "stream",
     "name": "stdout",
     "text": [
      "5th element of a: e\n",
      "Length of string a: 60\n",
      "b in a: True\n",
      "ment in a: True\n",
      "zodiac in a: False\n",
      "zodiac not in a: True\n"
     ]
    }
   ],
   "metadata": {}
  },
  {
   "cell_type": "markdown",
   "source": [
    "## String Slicing"
   ],
   "metadata": {}
  },
  {
   "cell_type": "code",
   "execution_count": 1,
   "source": [
    "a = 'This is String Slicing Example'\r\n",
    "print(a)\r\n",
    "\r\n",
    "b = a[2:12]\r\n",
    "print(f'Length of original String: {len(a)}')\r\n",
    "print(f'Output of a[2:12]: {b}')\r\n",
    "len = len(b)\r\n",
    "print(f'length of Sliced String: {len}')"
   ],
   "outputs": [
    {
     "output_type": "stream",
     "name": "stdout",
     "text": [
      "This is String Slicing Example\n",
      "Length of original String: 30\n",
      "Output of a[2:12]: is is Stri\n",
      "length of Sliced String: 10\n"
     ]
    }
   ],
   "metadata": {}
  },
  {
   "cell_type": "markdown",
   "source": [
    "## String Modification"
   ],
   "metadata": {}
  },
  {
   "cell_type": "code",
   "execution_count": 4,
   "source": [
    "a = '  Lets see various methods for string modification       '\r\n",
    "# Upper\r\n",
    "up = a.upper()\r\n",
    "print(f'Effect of upper() method: {up} \\n')\r\n",
    "\r\n",
    "# Lower\r\n",
    "low = a.lower()\r\n",
    "print(f'Effect of lower() method: {low} \\n')\r\n",
    "\r\n",
    "# Strip\r\n",
    "striped = a.strip()\r\n",
    "print(f'Effect of strip() method: {striped} \\n')\r\n",
    "\r\n",
    "# Replace\r\n",
    "replaced = a.replace('e', '2')\r\n",
    "print(f'Effect of replace() method: {replaced} \\n')\r\n",
    "\r\n",
    "# Split\r\n",
    "splitting = a.split(' ')\r\n",
    "print(f'Effect of split() method: {splitting} \\n')\r\n",
    "\r\n",
    "# Concatenation\r\n",
    "newBig = up + low + striped + replaced\r\n",
    "print(f'Effect of concatenation: {newBig} \\n')\r\n"
   ],
   "outputs": [
    {
     "output_type": "stream",
     "name": "stdout",
     "text": [
      "Effect of upper() method:   LETS SEE VARIOUS METHODS FOR STRING MODIFICATION        \n",
      "\n",
      "Effect of lower() method:   lets see various methods for string modification        \n",
      "\n",
      "Effect of strip() method: Lets see various methods for string modification \n",
      "\n",
      "Effect of replace() method:   L2ts s22 various m2thods for string modification        \n",
      "\n",
      "Effect of split() method: ['', '', 'Lets', 'see', 'various', 'methods', 'for', 'string', 'modification', '', '', '', '', '', '', ''] \n",
      "\n",
      "Effect of concatenation:   LETS SEE VARIOUS METHODS FOR STRING MODIFICATION         lets see various methods for string modification       Lets see various methods for string modification  L2ts s22 various m2thods for string modification        \n",
      "\n"
     ]
    }
   ],
   "metadata": {}
  },
  {
   "cell_type": "code",
   "execution_count": 5,
   "source": [
    "# Formatting\r\n",
    "\r\n",
    "#1\r\n",
    "age = 36\r\n",
    "txt = \"My name is John, and I am {}\"\r\n",
    "print(txt.format(age))\r\n",
    "\r\n",
    "#2\r\n",
    "quantity = 3\r\n",
    "itemno = 567\r\n",
    "price = 49.95\r\n",
    "myorder = \"I want {} pieces of item {} for {} dollars.\"\r\n",
    "print(myorder.format(quantity, itemno, price))\r\n",
    "\r\n",
    "#3\r\n",
    "quantity = 3\r\n",
    "itemno = 567\r\n",
    "price = 49.95\r\n",
    "myorder = \"I want to pay {2} dollars for {0} pieces of item {1}.\"\r\n",
    "print(myorder.format(quantity, itemno, price))"
   ],
   "outputs": [
    {
     "output_type": "stream",
     "name": "stdout",
     "text": [
      "My name is John, and I am 36\n",
      "I want 3 pieces of item 567 for 49.95 dollars.\n",
      "I want to pay 49.95 dollars for 3 pieces of item 567.\n"
     ]
    }
   ],
   "metadata": {}
  },
  {
   "cell_type": "code",
   "execution_count": null,
   "source": [],
   "outputs": [],
   "metadata": {}
  },
  {
   "cell_type": "code",
   "execution_count": 11,
   "source": [
    "a = '  Lets see various methods for string modification       '\r\n",
    "mod_a = a.strip()\r\n",
    "list = mod_a.split(' ')\r\n",
    "\r\n",
    "total_length = 0\r\n",
    "for word in list:\r\n",
    "    print(f'Length of \\'{word}\\' = {len(word)}')\r\n",
    "    total_length += len(word)\r\n",
    "\r\n",
    "print(total_length)"
   ],
   "outputs": [
    {
     "output_type": "stream",
     "name": "stdout",
     "text": [
      "Length of 'Lets' = 4\n",
      "Length of 'see' = 3\n",
      "Length of 'various' = 7\n",
      "Length of 'methods' = 7\n",
      "Length of 'for' = 3\n",
      "Length of 'string' = 6\n",
      "Length of 'modification' = 12\n",
      "42\n"
     ]
    }
   ],
   "metadata": {}
  },
  {
   "cell_type": "markdown",
   "source": [
    "# Task - 2: Create a database question form which takes various input from user.\r\n",
    "# Should ask for name, age, school/college, grade.\r\n",
    "# Your job is to check if the entered input is correct or not\r\n"
   ],
   "metadata": {}
  },
  {
   "cell_type": "markdown",
   "source": [],
   "metadata": {}
  }
 ],
 "metadata": {
  "interpreter": {
   "hash": "324e240ea573fd3d8056e12ea70d483238364e9b42112e18bb174b35d8d396b2"
  },
  "kernelspec": {
   "display_name": "Python 3.8.5 64-bit",
   "name": "python3"
  },
  "language_info": {
   "codemirror_mode": {
    "name": "ipython",
    "version": 3
   },
   "file_extension": ".py",
   "mimetype": "text/x-python",
   "name": "python",
   "nbconvert_exporter": "python",
   "pygments_lexer": "ipython3",
   "version": "3.8.5"
  },
  "orig_nbformat": 4
 },
 "nbformat": 4,
 "nbformat_minor": 2
}