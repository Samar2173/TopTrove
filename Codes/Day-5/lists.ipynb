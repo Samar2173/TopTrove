{
 "cells": [
  {
   "cell_type": "markdown",
   "source": [
    "# Day - 5\r\n",
    "# Lists "
   ],
   "metadata": {}
  },
  {
   "cell_type": "code",
   "execution_count": 2,
   "source": [
    "list_1 = [8, 8, 'Python', 5.6, True, ['New', 'Lists', 77]]\r\n",
    "print(list_1)"
   ],
   "outputs": [
    {
     "output_type": "stream",
     "name": "stdout",
     "text": [
      "[8, 8, 'Python', 5.6, True, ['New', 'Lists', 77]]\n"
     ]
    }
   ],
   "metadata": {}
  },
  {
   "cell_type": "markdown",
   "source": [
    "## Creating Lists"
   ],
   "metadata": {}
  },
  {
   "cell_type": "code",
   "execution_count": 5,
   "source": [
    "list_2 = list(('apple', 'monkey', 56, 5.23))\r\n",
    "print(list_2)\r\n",
    "print(len(list_2))\r\n",
    "print(type(list_2))"
   ],
   "outputs": [
    {
     "output_type": "stream",
     "name": "stdout",
     "text": [
      "['apple', 'monkey', 56, 5.23]\n",
      "4\n",
      "<class 'list'>\n"
     ]
    }
   ],
   "metadata": {}
  },
  {
   "cell_type": "markdown",
   "source": [
    "## Accesing List"
   ],
   "metadata": {}
  },
  {
   "cell_type": "code",
   "execution_count": 9,
   "source": [
    "thislist = [\"apple\", \"banana\", \"cherry\"]\r\n",
    "print(thislist)\r\n",
    "print(\"\\nIndexing\\n\")\r\n",
    "print(thislist[1])\r\n",
    "print(thislist[-1])\r\n",
    "print(\"\\nSlicing\\n\")\r\n",
    "print(thislist[2:5])\r\n",
    "print(thislist[:4])\r\n",
    "print(thislist[2:])\r\n"
   ],
   "outputs": [
    {
     "output_type": "stream",
     "name": "stdout",
     "text": [
      "['apple', 'banana', 'cherry']\n",
      "\n",
      "Indexing\n",
      "\n",
      "banana\n",
      "cherry\n",
      "\n",
      "Slicing\n",
      "\n",
      "['cherry']\n",
      "['apple', 'banana', 'cherry']\n",
      "['cherry']\n"
     ]
    }
   ],
   "metadata": {}
  },
  {
   "cell_type": "markdown",
   "source": [
    "## Changing Items"
   ],
   "metadata": {}
  },
  {
   "cell_type": "code",
   "execution_count": 12,
   "source": [
    "thislist = [\"apple\", \"banana\", \"cherry\"]\r\n",
    "print(f'Original: {thislist}\\n')\r\n",
    "thislist[1] = \"blackcurrant\"\r\n",
    "print(f'Changing 1st element: {thislist}\\n')\r\n",
    "thislist[1:3] = [\"pineapple\", \"watermelon\"]\r\n",
    "print(f'Changing more than one Elements: {thislist}\\n')"
   ],
   "outputs": [
    {
     "output_type": "stream",
     "name": "stdout",
     "text": [
      "Original: ['apple', 'banana', 'cherry']\n",
      "\n",
      "Changing 1st element: ['apple', 'blackcurrant', 'cherry']\n",
      "\n",
      "Changing more than one Elements: ['apple', 'pineapple', 'watermelon']\n",
      "\n"
     ]
    }
   ],
   "metadata": {}
  },
  {
   "cell_type": "markdown",
   "source": [
    "## Adding Items"
   ],
   "metadata": {}
  },
  {
   "cell_type": "code",
   "execution_count": 15,
   "source": [
    "thislist = [\"apple\", \"banana\", \"cherry\"]\r\n",
    "print(f'Original: {thislist}\\n')\r\n",
    "\r\n",
    "thislist.insert(2, \"watermelon\")\r\n",
    "print(f'Adding at specified position: {thislist}\\n')\r\n",
    "\r\n",
    "thislist.append(\"orange\")\r\n",
    "print(f'Adding at last (appending): {thislist}\\n')\r\n",
    "\r\n",
    "tropical = [\"mango\", \"pineapple\", \"papaya\"]\r\n",
    "print(f'Sequence 1: {tropical}\\n')\r\n",
    "\r\n",
    "thislist.extend(tropical)\r\n",
    "print(f'Extending original list with a sequence: {thislist}\\n')\r\n",
    "\r\n",
    "nominal = \"This a String\" \r\n",
    "print(f'Sequence 2: {nominal}\\n')\r\n",
    "\r\n",
    "thislist.extend(nominal)\r\n",
    "print(f'Extending original list with another sequence: {thislist}\\n')"
   ],
   "outputs": [
    {
     "output_type": "stream",
     "name": "stdout",
     "text": [
      "Original: ['apple', 'banana', 'cherry']\n",
      "\n",
      "Adding at specified position: ['apple', 'banana', 'watermelon', 'cherry']\n",
      "\n",
      "Adding at last (appending): ['apple', 'banana', 'watermelon', 'cherry', 'orange']\n",
      "\n",
      "Sequence 1: ['mango', 'pineapple', 'papaya']\n",
      "\n",
      "Extending original list with a sequence: ['apple', 'banana', 'watermelon', 'cherry', 'orange', 'mango', 'pineapple', 'papaya']\n",
      "\n",
      "Sequence 2: This a String\n",
      "\n",
      "Extending original list with another sequence: ['apple', 'banana', 'watermelon', 'cherry', 'orange', 'mango', 'pineapple', 'papaya', 'T', 'h', 'i', 's', ' ', 'a', ' ', 'S', 't', 'r', 'i', 'n', 'g']\n",
      "\n"
     ]
    }
   ],
   "metadata": {}
  },
  {
   "cell_type": "markdown",
   "source": [
    "## Removing Elements"
   ],
   "metadata": {}
  },
  {
   "cell_type": "code",
   "execution_count": 17,
   "source": [
    "thislist = ['apple', 'banana', 'watermelon', 'cherry', 'orange', 'mango', 'pineapple', 'papaya']\r\n",
    "print(f'Original: {thislist}\\n')\r\n",
    "\r\n",
    "thislist.remove(\"banana\")\r\n",
    "print(f'Removing an element by its name (banana): {thislist}\\n')\r\n",
    "\r\n",
    "thislist.pop(1)\r\n",
    "print(f'Poping an element by index (1st): {thislist}\\n')\r\n",
    "\r\n",
    "thislist.pop()\r\n",
    "print(f'Poping an element by default (blank): {thislist}\\n')\r\n",
    "\r\n",
    "del thislist[0]\r\n",
    "print(f'Deleting an element by index (0th): {thislist}\\n')\r\n",
    "\r\n",
    "thislist.clear()\r\n",
    "print(f'Clearing all elemnets of list: {thislist}\\n')\r\n",
    "\r\n",
    "del thislist\r\n",
    "print(f'Deleting the list: {thislist}\\n')"
   ],
   "outputs": [
    {
     "output_type": "stream",
     "name": "stdout",
     "text": [
      "Original: ['apple', 'banana', 'watermelon', 'cherry', 'orange', 'mango', 'pineapple', 'papaya']\n",
      "\n",
      "Removing an element by its name (banana): ['apple', 'watermelon', 'cherry', 'orange', 'mango', 'pineapple', 'papaya']\n",
      "\n",
      "Poping an element by index (1st): ['apple', 'cherry', 'orange', 'mango', 'pineapple', 'papaya']\n",
      "\n",
      "Poping an element by default (blank): ['apple', 'cherry', 'orange', 'mango', 'pineapple']\n",
      "\n",
      "Deleting an element by index (0th): ['cherry', 'orange', 'mango', 'pineapple']\n",
      "\n"
     ]
    },
    {
     "output_type": "error",
     "ename": "NameError",
     "evalue": "name 'thislist' is not defined",
     "traceback": [
      "\u001b[1;31m---------------------------------------------------------------------------\u001b[0m",
      "\u001b[1;31mNameError\u001b[0m                                 Traceback (most recent call last)",
      "\u001b[1;32m<ipython-input-17-038fed7ed16a>\u001b[0m in \u001b[0;36m<module>\u001b[1;34m\u001b[0m\n\u001b[0;32m     18\u001b[0m \u001b[1;33m\u001b[0m\u001b[0m\n\u001b[0;32m     19\u001b[0m \u001b[1;32mdel\u001b[0m \u001b[0mthislist\u001b[0m\u001b[1;33m\u001b[0m\u001b[1;33m\u001b[0m\u001b[0m\n\u001b[1;32m---> 20\u001b[1;33m \u001b[0mprint\u001b[0m\u001b[1;33m(\u001b[0m\u001b[1;34mf'Deleting the list: {thislist}\\n'\u001b[0m\u001b[1;33m)\u001b[0m\u001b[1;33m\u001b[0m\u001b[1;33m\u001b[0m\u001b[0m\n\u001b[0m",
      "\u001b[1;31mNameError\u001b[0m: name 'thislist' is not defined"
     ]
    }
   ],
   "metadata": {}
  },
  {
   "cell_type": "markdown",
   "source": [
    "## Looping through List"
   ],
   "metadata": {}
  },
  {
   "cell_type": "code",
   "execution_count": 18,
   "source": [
    "thislist = [\"apple\", \"banana\", \"cherry\"]"
   ],
   "outputs": [],
   "metadata": {}
  },
  {
   "cell_type": "code",
   "execution_count": 19,
   "source": [
    "for i in thislist:\r\n",
    "    print(i)"
   ],
   "outputs": [
    {
     "output_type": "stream",
     "name": "stdout",
     "text": [
      "apple\n",
      "banana\n",
      "cherry\n"
     ]
    }
   ],
   "metadata": {}
  },
  {
   "cell_type": "code",
   "execution_count": 20,
   "source": [
    "for i in range(len(thislist)):\r\n",
    "    print(thislist[i])"
   ],
   "outputs": [
    {
     "output_type": "stream",
     "name": "stdout",
     "text": [
      "apple\n",
      "banana\n",
      "cherry\n"
     ]
    }
   ],
   "metadata": {}
  },
  {
   "cell_type": "code",
   "execution_count": 22,
   "source": [
    "k = 0\r\n",
    "while k < len(thislist):\r\n",
    "    print(thislist[k])\r\n",
    "    k += 1"
   ],
   "outputs": [
    {
     "output_type": "stream",
     "name": "stdout",
     "text": [
      "apple\n",
      "banana\n",
      "cherry\n"
     ]
    }
   ],
   "metadata": {}
  },
  {
   "cell_type": "markdown",
   "source": [
    "## Sorting a list"
   ],
   "metadata": {}
  },
  {
   "cell_type": "code",
   "execution_count": 27,
   "source": [
    "thislist = [\"banana\", \"Orange\", \"Kiwi\", \"cherry\"]\r\n",
    "print(f'Original: {thislist}\\n')\r\n",
    "\r\n",
    "thislist.sort()\r\n",
    "print(f'Sorted List: {thislist}\\n')\r\n",
    "\r\n",
    "thislist.sort(reverse = True)\r\n",
    "print(f'Reverse Sort: {thislist}\\n')\r\n",
    "\r\n",
    "thislist.sort(key = str.lower)\r\n",
    "print(f'Using Function to Sort: {thislist}\\n')\r\n",
    "\r\n",
    "thislist = [\"banana\", \"Orange\", \"Kiwi\", \"cherry\"]\r\n",
    "thislist.reverse()\r\n",
    "print(f'Reversing the list with original order: {thislist}\\n')"
   ],
   "outputs": [
    {
     "output_type": "stream",
     "name": "stdout",
     "text": [
      "Original: ['banana', 'Orange', 'Kiwi', 'cherry']\n",
      "\n",
      "Sorting: ['Kiwi', 'Orange', 'banana', 'cherry']\n",
      "\n",
      "Reverse Sort: ['cherry', 'banana', 'Orange', 'Kiwi']\n",
      "\n",
      "Using Function to Sort: ['banana', 'cherry', 'Kiwi', 'Orange']\n",
      "\n",
      "Reversing the list with original order: ['cherry', 'Kiwi', 'Orange', 'banana']\n",
      "\n"
     ]
    }
   ],
   "metadata": {}
  },
  {
   "cell_type": "markdown",
   "source": [
    "## Copying List"
   ],
   "metadata": {}
  },
  {
   "cell_type": "code",
   "execution_count": 28,
   "source": [
    "thislist = [\"apple\", \"banana\", \"cherry\"]\r\n",
    "\r\n",
    "myllist = thislist.copy()\r\n",
    "print(f'Copying with copy function: {myllist}\\n')\r\n",
    "\r\n",
    "my_list = list(thislist)\r\n",
    "print(f'Copying with copy list constructor: {my_list}\\n')"
   ],
   "outputs": [
    {
     "output_type": "stream",
     "name": "stdout",
     "text": [
      "Copying with copy function: ['apple', 'banana', 'cherry']\n",
      "\n",
      "Copying with copy list constructor: ['apple', 'banana', 'cherry']\n",
      "\n"
     ]
    }
   ],
   "metadata": {}
  },
  {
   "cell_type": "markdown",
   "source": [],
   "metadata": {}
  },
  {
   "cell_type": "code",
   "execution_count": 23,
   "source": [
    "l = [i ** 10 for i in range(10000000)]\r\n",
    "print(len(l))"
   ],
   "outputs": [
    {
     "output_type": "stream",
     "name": "stdout",
     "text": [
      "10000000\n"
     ]
    }
   ],
   "metadata": {}
  },
  {
   "cell_type": "code",
   "execution_count": 24,
   "source": [
    "t = []\r\n",
    "\r\n",
    "for i in range(10000000):\r\n",
    "    t.append(i ** 10)\r\n",
    "\r\n",
    "print(len(t))"
   ],
   "outputs": [
    {
     "output_type": "stream",
     "name": "stdout",
     "text": [
      "10000000\n"
     ]
    }
   ],
   "metadata": {}
  },
  {
   "cell_type": "code",
   "execution_count": 25,
   "source": [
    "def main():\r\n",
    "    l = [i ** 10 for i in range(10000000)]\r\n",
    "    return len(l)\r\n",
    "\r\n",
    "if __name__ == \"__main__\":\r\n",
    "    print(main())"
   ],
   "outputs": [
    {
     "output_type": "stream",
     "name": "stdout",
     "text": [
      "10000000\n"
     ]
    }
   ],
   "metadata": {}
  },
  {
   "cell_type": "code",
   "execution_count": 26,
   "source": [
    "print(\"hello\" + \" World\")"
   ],
   "outputs": [
    {
     "output_type": "stream",
     "name": "stdout",
     "text": [
      "hello World\n"
     ]
    }
   ],
   "metadata": {}
  },
  {
   "cell_type": "code",
   "execution_count": 27,
   "source": [
    "a = lambda x, x+10\r\n",
    "a(5)"
   ],
   "outputs": [
    {
     "output_type": "error",
     "ename": "SyntaxError",
     "evalue": "invalid syntax (<ipython-input-27-7038453f3079>, line 1)",
     "traceback": [
      "\u001b[1;36m  File \u001b[1;32m\"<ipython-input-27-7038453f3079>\"\u001b[1;36m, line \u001b[1;32m1\u001b[0m\n\u001b[1;33m    a = lambda x, x+10\u001b[0m\n\u001b[1;37m                   ^\u001b[0m\n\u001b[1;31mSyntaxError\u001b[0m\u001b[1;31m:\u001b[0m invalid syntax\n"
     ]
    }
   ],
   "metadata": {}
  },
  {
   "cell_type": "markdown",
   "source": [
    "# Write a function which returns the last digit of a number in Fibonacci Series.\r\n",
    "# (Sample Input: 10,\r\n",
    "# Expected Output: 0, 1, 1, 2, 3, 5, 8, 3, 1, 4)"
   ],
   "metadata": {}
  },
  {
   "cell_type": "markdown",
   "source": [],
   "metadata": {}
  }
 ],
 "metadata": {
  "interpreter": {
   "hash": "324e240ea573fd3d8056e12ea70d483238364e9b42112e18bb174b35d8d396b2"
  },
  "kernelspec": {
   "display_name": "Python 3.8.5 64-bit",
   "name": "python3"
  },
  "language_info": {
   "codemirror_mode": {
    "name": "ipython",
    "version": 3
   },
   "file_extension": ".py",
   "mimetype": "text/x-python",
   "name": "python",
   "nbconvert_exporter": "python",
   "pygments_lexer": "ipython3",
   "version": "3.8.5"
  },
  "orig_nbformat": 4
 },
 "nbformat": 4,
 "nbformat_minor": 2
}