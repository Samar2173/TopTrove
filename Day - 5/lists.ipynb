{
 "cells": [
  {
   "cell_type": "markdown",
   "metadata": {},
   "source": [
    "# Day - 5\r\n",
    "# Lists "
   ]
  },
  {
   "cell_type": "code",
   "execution_count": 2,
   "metadata": {},
   "outputs": [
    {
     "name": "stdout",
     "output_type": "stream",
     "text": [
      "[8, 8, 'Python', 5.6, True, ['New', 'Lists', 77]]\n"
     ]
    }
   ],
   "source": [
    "list_1 = [8, 8, 'Python', 5.6, True, ['New', 'Lists', 77]]\r\n",
    "print(list_1)"
   ]
  },
  {
   "cell_type": "markdown",
   "metadata": {},
   "source": [
    "## Creating Lists"
   ]
  },
  {
   "cell_type": "code",
   "execution_count": 5,
   "metadata": {},
   "outputs": [
    {
     "name": "stdout",
     "output_type": "stream",
     "text": [
      "['apple', 'monkey', 56, 5.23]\n",
      "4\n",
      "<class 'list'>\n"
     ]
    }
   ],
   "source": [
    "list_2 = list(('apple', 'monkey', 56, 5.23))\r\n",
    "print(list_2)\r\n",
    "print(len(list_2))\r\n",
    "print(type(list_2))"
   ]
  },
  {
   "cell_type": "markdown",
   "metadata": {},
   "source": [
    "## Accesing List"
   ]
  },
  {
   "cell_type": "code",
   "execution_count": 9,
   "metadata": {},
   "outputs": [
    {
     "name": "stdout",
     "output_type": "stream",
     "text": [
      "['apple', 'banana', 'cherry']\n",
      "\n",
      "Indexing\n",
      "\n",
      "banana\n",
      "cherry\n",
      "\n",
      "Slicing\n",
      "\n",
      "['cherry']\n",
      "['apple', 'banana', 'cherry']\n",
      "['cherry']\n"
     ]
    }
   ],
   "source": [
    "thislist = [\"apple\", \"banana\", \"cherry\"]\r\n",
    "print(thislist)\r\n",
    "print(\"\\nIndexing\\n\")\r\n",
    "print(thislist[1])\r\n",
    "print(thislist[-1])\r\n",
    "print(\"\\nSlicing\\n\")\r\n",
    "print(thislist[2:5])\r\n",
    "print(thislist[:4])\r\n",
    "print(thislist[2:])\r\n"
   ]
  },
  {
   "cell_type": "markdown",
   "metadata": {},
   "source": [
    "## Changing Items"
   ]
  },
  {
   "cell_type": "code",
   "execution_count": 12,
   "metadata": {},
   "outputs": [
    {
     "name": "stdout",
     "output_type": "stream",
     "text": [
      "Original: ['apple', 'banana', 'cherry']\n",
      "\n",
      "Changing 1st element: ['apple', 'blackcurrant', 'cherry']\n",
      "\n",
      "Changing more than one Elements: ['apple', 'pineapple', 'watermelon']\n",
      "\n"
     ]
    }
   ],
   "source": [
    "thislist = [\"apple\", \"banana\", \"cherry\"]\r\n",
    "print(f'Original: {thislist}\\n')\r\n",
    "thislist[1] = \"blackcurrant\"\r\n",
    "print(f'Changing 1st element: {thislist}\\n')\r\n",
    "thislist[1:3] = [\"pineapple\", \"watermelon\"]\r\n",
    "print(f'Changing more than one Elements: {thislist}\\n')"
   ]
  },
  {
   "cell_type": "markdown",
   "metadata": {},
   "source": [
    "## Adding Items"
   ]
  },
  {
   "cell_type": "code",
   "execution_count": 15,
   "metadata": {},
   "outputs": [
    {
     "name": "stdout",
     "output_type": "stream",
     "text": [
      "Original: ['apple', 'banana', 'cherry']\n",
      "\n",
      "Adding at specified position: ['apple', 'banana', 'watermelon', 'cherry']\n",
      "\n",
      "Adding at last (appending): ['apple', 'banana', 'watermelon', 'cherry', 'orange']\n",
      "\n",
      "Sequence 1: ['mango', 'pineapple', 'papaya']\n",
      "\n",
      "Extending original list with a sequence: ['apple', 'banana', 'watermelon', 'cherry', 'orange', 'mango', 'pineapple', 'papaya']\n",
      "\n",
      "Sequence 2: This a String\n",
      "\n",
      "Extending original list with another sequence: ['apple', 'banana', 'watermelon', 'cherry', 'orange', 'mango', 'pineapple', 'papaya', 'T', 'h', 'i', 's', ' ', 'a', ' ', 'S', 't', 'r', 'i', 'n', 'g']\n",
      "\n"
     ]
    }
   ],
   "source": [
    "thislist = [\"apple\", \"banana\", \"cherry\"]\r\n",
    "print(f'Original: {thislist}\\n')\r\n",
    "\r\n",
    "thislist.insert(2, \"watermelon\")\r\n",
    "print(f'Adding at specified position: {thislist}\\n')\r\n",
    "\r\n",
    "thislist.append(\"orange\")\r\n",
    "print(f'Adding at last (appending): {thislist}\\n')\r\n",
    "\r\n",
    "tropical = [\"mango\", \"pineapple\", \"papaya\"]\r\n",
    "print(f'Sequence 1: {tropical}\\n')\r\n",
    "\r\n",
    "thislist.extend(tropical)\r\n",
    "print(f'Extending original list with a sequence: {thislist}\\n')\r\n",
    "\r\n",
    "nominal = \"This a String\" \r\n",
    "print(f'Sequence 2: {nominal}\\n')\r\n",
    "\r\n",
    "thislist.extend(nominal)\r\n",
    "print(f'Extending original list with another sequence: {thislist}\\n')"
   ]
  },
  {
   "cell_type": "markdown",
   "metadata": {},
   "source": [
    "## Removing Elements"
   ]
  },
  {
   "cell_type": "code",
   "execution_count": 17,
   "metadata": {},
   "outputs": [
    {
     "name": "stdout",
     "output_type": "stream",
     "text": [
      "Original: ['apple', 'banana', 'watermelon', 'cherry', 'orange', 'mango', 'pineapple', 'papaya']\n",
      "\n",
      "Removing an element by its name (banana): ['apple', 'watermelon', 'cherry', 'orange', 'mango', 'pineapple', 'papaya']\n",
      "\n",
      "Poping an element by index (1st): ['apple', 'cherry', 'orange', 'mango', 'pineapple', 'papaya']\n",
      "\n",
      "Poping an element by default (blank): ['apple', 'cherry', 'orange', 'mango', 'pineapple']\n",
      "\n",
      "Deleting an element by index (0th): ['cherry', 'orange', 'mango', 'pineapple']\n",
      "\n"
     ]
    },
    {
     "ename": "NameError",
     "evalue": "name 'thislist' is not defined",
     "output_type": "error",
     "traceback": [
      "\u001b[1;31m---------------------------------------------------------------------------\u001b[0m",
      "\u001b[1;31mNameError\u001b[0m                                 Traceback (most recent call last)",
      "\u001b[1;32m<ipython-input-17-038fed7ed16a>\u001b[0m in \u001b[0;36m<module>\u001b[1;34m\u001b[0m\n\u001b[0;32m     18\u001b[0m \u001b[1;33m\u001b[0m\u001b[0m\n\u001b[0;32m     19\u001b[0m \u001b[1;32mdel\u001b[0m \u001b[0mthislist\u001b[0m\u001b[1;33m\u001b[0m\u001b[1;33m\u001b[0m\u001b[0m\n\u001b[1;32m---> 20\u001b[1;33m \u001b[0mprint\u001b[0m\u001b[1;33m(\u001b[0m\u001b[1;34mf'Deleting the list: {thislist}\\n'\u001b[0m\u001b[1;33m)\u001b[0m\u001b[1;33m\u001b[0m\u001b[1;33m\u001b[0m\u001b[0m\n\u001b[0m",
      "\u001b[1;31mNameError\u001b[0m: name 'thislist' is not defined"
     ]
    }
   ],
   "source": [
    "thislist = ['apple', 'banana', 'watermelon', 'cherry', 'orange', 'mango', 'pineapple', 'papaya']\r\n",
    "print(f'Original: {thislist}\\n')\r\n",
    "\r\n",
    "thislist.remove(\"banana\")\r\n",
    "print(f'Removing an element by its name (banana): {thislist}\\n')\r\n",
    "\r\n",
    "thislist.pop(1)\r\n",
    "print(f'Poping an element by index (1st): {thislist}\\n')\r\n",
    "\r\n",
    "thislist.pop()\r\n",
    "print(f'Poping an element by default (blank): {thislist}\\n')\r\n",
    "\r\n",
    "del thislist[0]\r\n",
    "print(f'Deleting an element by index (0th): {thislist}\\n')\r\n",
    "\r\n",
    "thislist.clear()\r\n",
    "print(f'Clearing all elemnets of list: {thislist}\\n')\r\n",
    "\r\n",
    "del thislist\r\n",
    "print(f'Deleting the list: {thislist}\\n')"
   ]
  },
  {
   "cell_type": "markdown",
   "metadata": {},
   "source": [
    "## Looping through List"
   ]
  },
  {
   "cell_type": "code",
   "execution_count": 18,
   "metadata": {},
   "outputs": [],
   "source": [
    "thislist = [\"apple\", \"banana\", \"cherry\"]"
   ]
  },
  {
   "cell_type": "code",
   "execution_count": 19,
   "metadata": {},
   "outputs": [
    {
     "name": "stdout",
     "output_type": "stream",
     "text": [
      "apple\n",
      "banana\n",
      "cherry\n"
     ]
    }
   ],
   "source": [
    "for i in thislist:\r\n",
    "    print(i)"
   ]
  },
  {
   "cell_type": "code",
   "execution_count": 20,
   "metadata": {},
   "outputs": [
    {
     "name": "stdout",
     "output_type": "stream",
     "text": [
      "apple\n",
      "banana\n",
      "cherry\n"
     ]
    }
   ],
   "source": [
    "for i in range(len(thislist)):\r\n",
    "    print(thislist[i])"
   ]
  },
  {
   "cell_type": "code",
   "execution_count": 22,
   "metadata": {},
   "outputs": [
    {
     "name": "stdout",
     "output_type": "stream",
     "text": [
      "apple\n",
      "banana\n",
      "cherry\n"
     ]
    }
   ],
   "source": [
    "k = 0\r\n",
    "while k < len(thislist):\r\n",
    "    print(thislist[k])\r\n",
    "    k += 1"
   ]
  },
  {
   "cell_type": "markdown",
   "metadata": {},
   "source": [
    "## Sorting a list"
   ]
  },
  {
   "cell_type": "code",
   "execution_count": 27,
   "metadata": {},
   "outputs": [
    {
     "name": "stdout",
     "output_type": "stream",
     "text": [
      "Original: ['banana', 'Orange', 'Kiwi', 'cherry']\n",
      "\n",
      "Sorting: ['Kiwi', 'Orange', 'banana', 'cherry']\n",
      "\n",
      "Reverse Sort: ['cherry', 'banana', 'Orange', 'Kiwi']\n",
      "\n",
      "Using Function to Sort: ['banana', 'cherry', 'Kiwi', 'Orange']\n",
      "\n",
      "Reversing the list with original order: ['cherry', 'Kiwi', 'Orange', 'banana']\n",
      "\n"
     ]
    }
   ],
   "source": [
    "thislist = [\"banana\", \"Orange\", \"Kiwi\", \"cherry\"]\r\n",
    "print(f'Original: {thislist}\\n')\r\n",
    "\r\n",
    "thislist.sort()\r\n",
    "print(f'Sorted List: {thislist}\\n')\r\n",
    "\r\n",
    "thislist.sort(reverse = True)\r\n",
    "print(f'Reverse Sort: {thislist}\\n')\r\n",
    "\r\n",
    "thislist.sort(key = str.lower)\r\n",
    "print(f'Using Function to Sort: {thislist}\\n')\r\n",
    "\r\n",
    "thislist = [\"banana\", \"Orange\", \"Kiwi\", \"cherry\"]\r\n",
    "thislist.reverse()\r\n",
    "print(f'Reversing the list with original order: {thislist}\\n')"
   ]
  },
  {
   "cell_type": "markdown",
   "metadata": {},
   "source": [
    "## Copying List"
   ]
  },
  {
   "cell_type": "code",
   "execution_count": 28,
   "metadata": {},
   "outputs": [
    {
     "name": "stdout",
     "output_type": "stream",
     "text": [
      "Copying with copy function: ['apple', 'banana', 'cherry']\n",
      "\n",
      "Copying with copy list constructor: ['apple', 'banana', 'cherry']\n",
      "\n"
     ]
    }
   ],
   "source": [
    "thislist = [\"apple\", \"banana\", \"cherry\"]\r\n",
    "\r\n",
    "myllist = thislist.copy()\r\n",
    "print(f'Copying with copy function: {myllist}\\n')\r\n",
    "\r\n",
    "my_list = list(thislist)\r\n",
    "print(f'Copying with copy list constructor: {my_list}\\n')"
   ]
  },
  {
   "cell_type": "markdown",
   "metadata": {},
   "source": []
  }
 ],
 "metadata": {
  "interpreter": {
   "hash": "324e240ea573fd3d8056e12ea70d483238364e9b42112e18bb174b35d8d396b2"
  },
  "kernelspec": {
   "display_name": "Python 3.8.5 64-bit",
   "name": "python3"
  },
  "language_info": {
   "codemirror_mode": {
    "name": "ipython",
    "version": 3
   },
   "file_extension": ".py",
   "mimetype": "text/x-python",
   "name": "python",
   "nbconvert_exporter": "python",
   "pygments_lexer": "ipython3",
   "version": "3.8.5"
  },
  "orig_nbformat": 4
 },
 "nbformat": 4,
 "nbformat_minor": 2
}