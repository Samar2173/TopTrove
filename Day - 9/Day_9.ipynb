{
 "cells": [
  {
   "cell_type": "markdown",
   "source": [
    "# OOP Concepts\r\n",
    "# Day - 9"
   ],
   "metadata": {}
  },
  {
   "cell_type": "code",
   "execution_count": 9,
   "source": [
    "class Profile:\r\n",
    "        roll = 0\r\n",
    "        fname = 'John'\r\n",
    "        lname = 'Doe'\r\n",
    "        email = fname.lower() + lname.lower() + '@school.com'\r\n",
    "    \r\n",
    "        def read(self, roll):\r\n",
    "            print(f'Roll No: {roll} is now Reading')\r\n",
    "\r\n",
    "        def write(self, roll):\r\n",
    "            print(f'Roll No: {roll} is now Writing')\r\n",
    "\r\n",
    "student1 = Profile()\r\n",
    "student1.roll = 16\r\n",
    "student1.fname = 'Enzo'\r\n",
    "student1.lname = 'Ferrari'\r\n",
    "\r\n",
    "print(f'Roll No. = {student1.roll}\\nEmail = {student1.email}')\r\n",
    "\r\n",
    "student1.read(student1.roll)\r\n",
    "student1.write(student1.roll)\r\n"
   ],
   "outputs": [
    {
     "output_type": "stream",
     "name": "stdout",
     "text": [
      "Roll No. = 16\n",
      "Email = johndoe@school.com\n",
      "Roll No: 16 is now Reading\n",
      "Roll No: 16 is now Writing\n"
     ]
    }
   ],
   "metadata": {}
  },
  {
   "cell_type": "code",
   "execution_count": 13,
   "source": [
    "roll = student1.roll\r\n",
    "print(roll)\r\n",
    "\r\n",
    "roll = 18\r\n",
    "print(f'Roll: {roll}, Student_Roll: {student1.roll}')\r\n",
    "\r\n",
    "student1.roll = 25\r\n",
    "print(f'Roll: {roll}, Student_Roll: {student1.roll}')"
   ],
   "outputs": [
    {
     "output_type": "stream",
     "name": "stdout",
     "text": [
      "25\n",
      "Roll: 25, Student_Roll: 25\n"
     ]
    }
   ],
   "metadata": {}
  },
  {
   "cell_type": "markdown",
   "source": [
    "# Inheritance"
   ],
   "metadata": {}
  },
  {
   "cell_type": "code",
   "execution_count": 21,
   "source": [
    "class Profile:\r\n",
    "        def __init__(self, roll, fname, lname):\r\n",
    "            self.roll = roll\r\n",
    "            self.fname = fname\r\n",
    "            self.lname = lname\r\n",
    "            self.email = self.fname.lower() + self.lname.lower() + '@school.com'\r\n",
    "            print(f'{self.fname} {self.lname} is a Student')\r\n",
    "    \r\n",
    "        def info(self):\r\n",
    "            print(f'Name: {self.fname} {self.lname}, Roll No: {self.roll}\\n')\r\n",
    "\r\n",
    "        def read(self):\r\n",
    "            print(f'Roll No: {self.roll} is now Reading.\\n')\r\n",
    "\r\n",
    "        def write(self):\r\n",
    "            print(f'Roll No: {self.roll} is now Writing.\\n')\r\n",
    "\r\n",
    "        def freeTime(self):\r\n",
    "            print(f'Roll No: {self.roll} is creating a ruckus in the class.\\n')\r\n",
    "\r\n",
    "class Monitor(Profile):\r\n",
    "        def __init__(self, roll, fname, lname, cName):\r\n",
    "            self.roll = roll\r\n",
    "            self.fname = fname\r\n",
    "            self.lname = lname\r\n",
    "            self.cName = cName\r\n",
    "            self.email = self.fname.lower() + self.lname.lower() + '@school.com'\r\n",
    "            print(f'{self.fname} {self.lname} is a Monitor of class {cName}\\n')\r\n",
    "            super().__init__\r\n",
    "        \r\n",
    "        def freeTime(self):\r\n",
    "            print(f'Class {self.cName} monitor is Monitoring the class.\\n')\r\n",
    "        \r\n",
    "        def classCheck(self):\r\n",
    "            print(f'Class {self.cName} monitor is Checking if Teacher is Absent or not.\\n')\r\n",
    "\r\n",
    "\r\n",
    "student1 = Profile(16, 'Enzo', 'Ferrari')\r\n",
    "student2 = Monitor(32, 'Henry', 'Ford', 11)\r\n",
    "\r\n",
    "student1.info()\r\n",
    "student2.info()\r\n",
    "\r\n",
    "student1.read()\r\n",
    "student2.read()\r\n",
    "\r\n",
    "student1.freeTime()\r\n",
    "student2.freeTime()\r\n",
    "\r\n",
    "# student1.check()\r\n",
    "student2.classCheck()\r\n"
   ],
   "outputs": [
    {
     "output_type": "stream",
     "name": "stdout",
     "text": [
      "Enzo Ferrari is a Student\n",
      "Henry Ford is a Monitor of class 11\n",
      "\n",
      "Name: Enzo Ferrari, Roll No: 16\n",
      "\n",
      "Name: Henry Ford, Roll No: 32\n",
      "\n",
      "Roll No: 16 is now Reading.\n",
      "\n",
      "Roll No: 32 is now Reading.\n",
      "\n",
      "Roll No: 16 is creating a ruckus in the class.\n",
      "\n",
      "Class 11 monitor is Monitoring the class.\n",
      "\n",
      "Class 11 monitor is Checking if Teacher is Absent or not.\n",
      "\n"
     ]
    }
   ],
   "metadata": {}
  },
  {
   "cell_type": "markdown",
   "source": [
    "# Function Task 1"
   ],
   "metadata": {}
  },
  {
   "cell_type": "code",
   "execution_count": 4,
   "source": [
    "a = input().split('-')\r\n",
    "\r\n",
    "a.sort()\r\n",
    "print(\"Sorted:\")\r\n",
    "print('-'.join(a))"
   ],
   "outputs": [
    {
     "output_type": "stream",
     "name": "stdout",
     "text": [
      "a:  ['green', 'red', 'yellow', 'black', 'white']\n",
      "Sorted:\n",
      "black-green-red-white-yellow\n"
     ]
    }
   ],
   "metadata": {}
  },
  {
   "cell_type": "code",
   "execution_count": 7,
   "source": [
    "list1 = [i for i in 'String']\r\n",
    "print(list1)"
   ],
   "outputs": [
    {
     "output_type": "stream",
     "name": "stdout",
     "text": [
      "['S', 't', 'r', 'i', 'n', 'g']\n"
     ]
    }
   ],
   "metadata": {}
  },
  {
   "cell_type": "code",
   "execution_count": 8,
   "source": [
    "list2 = []\r\n",
    "for i in 'String':\r\n",
    "    list2.append(i)\r\n",
    "\r\n",
    "print(list2)"
   ],
   "outputs": [
    {
     "output_type": "stream",
     "name": "stdout",
     "text": [
      "['S', 't', 'r', 'i', 'n', 'g']\n"
     ]
    }
   ],
   "metadata": {}
  },
  {
   "cell_type": "markdown",
   "source": [
    "# Function Task 2"
   ],
   "metadata": {}
  },
  {
   "cell_type": "code",
   "execution_count": 12,
   "source": [
    "def upp(str):\r\n",
    "    return str.upper()\r\n",
    "\r\n",
    "def low(str):\r\n",
    "    return str.lower()\r\n",
    "\r\n",
    "def cap(str):\r\n",
    "    return str.title()\r\n",
    "\r\n",
    "print('T - Parameter:\\na: All Upper Case\\nl: All Lower Case\\nc: 1st Letter Capital')\r\n",
    "*str, para = input('Enter string and T-parameter in (String Parameter) format: ').split()\r\n",
    "\r\n",
    "str = ' '.join(str)\r\n",
    "\r\n",
    "if para == 'a':\r\n",
    "    print(upp(str))\r\n",
    "\r\n",
    "elif para == 'l':\r\n",
    "    print(low(str))\r\n",
    "\r\n",
    "elif para == 'c':\r\n",
    "    print(cap(str))\r\n",
    "\r\n",
    "else:\r\n",
    "    print(\"Wrong T - Parameter\")\r\n"
   ],
   "outputs": [
    {
     "output_type": "stream",
     "name": "stdout",
     "text": [
      "T - Parameter:\n",
      "a: All Upper Case\n",
      "l: All Lower Case\n",
      "c: 1st Letter Capital\n",
      "I AM A MENTOR\n"
     ]
    }
   ],
   "metadata": {}
  }
 ],
 "metadata": {
  "orig_nbformat": 4,
  "language_info": {
   "name": "python"
  }
 },
 "nbformat": 4,
 "nbformat_minor": 2
}